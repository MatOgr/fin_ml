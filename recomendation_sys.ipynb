{
 "cells": [
  {
   "cell_type": "code",
   "execution_count": 1,
   "id": "6f7d870b",
   "metadata": {},
   "outputs": [],
   "source": [
    "import pandas as pd"
   ]
  },
  {
   "cell_type": "code",
   "execution_count": null,
   "id": "e94d03e1",
   "metadata": {},
   "outputs": [],
   "source": [
    "!unzip ml-latest-small.zip"
   ]
  },
  {
   "cell_type": "code",
   "execution_count": 3,
   "id": "0fb75567",
   "metadata": {},
   "outputs": [],
   "source": [
    "BASE_PATH = 'ml-latest-small'\n",
    "\n",
    "links = pd.read_csv(f'{BASE_PATH}/links.csv', encoding='utf-8')\n",
    "movies = pd.read_csv(f'{BASE_PATH}/movies.csv', encoding='utf-8')\n",
    "ratings = pd.read_csv(f'{BASE_PATH}/ratings.csv', encoding='utf-8')\n",
    "tags = pd.read_csv(f'{BASE_PATH}/tags.csv', encoding='utf-8')\n"
   ]
  },
  {
   "cell_type": "code",
   "execution_count": 4,
   "id": "5e62cdea",
   "metadata": {},
   "outputs": [
    {
     "data": {
      "text/html": [
       "<div>\n",
       "<style scoped>\n",
       "    .dataframe tbody tr th:only-of-type {\n",
       "        vertical-align: middle;\n",
       "    }\n",
       "\n",
       "    .dataframe tbody tr th {\n",
       "        vertical-align: top;\n",
       "    }\n",
       "\n",
       "    .dataframe thead th {\n",
       "        text-align: right;\n",
       "    }\n",
       "</style>\n",
       "<table border=\"1\" class=\"dataframe\">\n",
       "  <thead>\n",
       "    <tr style=\"text-align: right;\">\n",
       "      <th></th>\n",
       "      <th>movieId</th>\n",
       "      <th>imdbId</th>\n",
       "      <th>tmdbId</th>\n",
       "    </tr>\n",
       "  </thead>\n",
       "  <tbody>\n",
       "    <tr>\n",
       "      <th>0</th>\n",
       "      <td>1</td>\n",
       "      <td>114709</td>\n",
       "      <td>862.0</td>\n",
       "    </tr>\n",
       "    <tr>\n",
       "      <th>1</th>\n",
       "      <td>2</td>\n",
       "      <td>113497</td>\n",
       "      <td>8844.0</td>\n",
       "    </tr>\n",
       "    <tr>\n",
       "      <th>2</th>\n",
       "      <td>3</td>\n",
       "      <td>113228</td>\n",
       "      <td>15602.0</td>\n",
       "    </tr>\n",
       "    <tr>\n",
       "      <th>3</th>\n",
       "      <td>4</td>\n",
       "      <td>114885</td>\n",
       "      <td>31357.0</td>\n",
       "    </tr>\n",
       "    <tr>\n",
       "      <th>4</th>\n",
       "      <td>5</td>\n",
       "      <td>113041</td>\n",
       "      <td>11862.0</td>\n",
       "    </tr>\n",
       "  </tbody>\n",
       "</table>\n",
       "</div>"
      ],
      "text/plain": [
       "   movieId  imdbId   tmdbId\n",
       "0        1  114709    862.0\n",
       "1        2  113497   8844.0\n",
       "2        3  113228  15602.0\n",
       "3        4  114885  31357.0\n",
       "4        5  113041  11862.0"
      ]
     },
     "execution_count": 4,
     "metadata": {},
     "output_type": "execute_result"
    }
   ],
   "source": [
    "links.head()"
   ]
  },
  {
   "cell_type": "code",
   "execution_count": 5,
   "id": "f835131e",
   "metadata": {},
   "outputs": [
    {
     "data": {
      "text/html": [
       "<div>\n",
       "<style scoped>\n",
       "    .dataframe tbody tr th:only-of-type {\n",
       "        vertical-align: middle;\n",
       "    }\n",
       "\n",
       "    .dataframe tbody tr th {\n",
       "        vertical-align: top;\n",
       "    }\n",
       "\n",
       "    .dataframe thead th {\n",
       "        text-align: right;\n",
       "    }\n",
       "</style>\n",
       "<table border=\"1\" class=\"dataframe\">\n",
       "  <thead>\n",
       "    <tr style=\"text-align: right;\">\n",
       "      <th></th>\n",
       "      <th>movieId</th>\n",
       "      <th>title</th>\n",
       "      <th>genres</th>\n",
       "    </tr>\n",
       "  </thead>\n",
       "  <tbody>\n",
       "    <tr>\n",
       "      <th>0</th>\n",
       "      <td>1</td>\n",
       "      <td>Toy Story (1995)</td>\n",
       "      <td>Adventure|Animation|Children|Comedy|Fantasy</td>\n",
       "    </tr>\n",
       "    <tr>\n",
       "      <th>1</th>\n",
       "      <td>2</td>\n",
       "      <td>Jumanji (1995)</td>\n",
       "      <td>Adventure|Children|Fantasy</td>\n",
       "    </tr>\n",
       "    <tr>\n",
       "      <th>2</th>\n",
       "      <td>3</td>\n",
       "      <td>Grumpier Old Men (1995)</td>\n",
       "      <td>Comedy|Romance</td>\n",
       "    </tr>\n",
       "    <tr>\n",
       "      <th>3</th>\n",
       "      <td>4</td>\n",
       "      <td>Waiting to Exhale (1995)</td>\n",
       "      <td>Comedy|Drama|Romance</td>\n",
       "    </tr>\n",
       "    <tr>\n",
       "      <th>4</th>\n",
       "      <td>5</td>\n",
       "      <td>Father of the Bride Part II (1995)</td>\n",
       "      <td>Comedy</td>\n",
       "    </tr>\n",
       "  </tbody>\n",
       "</table>\n",
       "</div>"
      ],
      "text/plain": [
       "   movieId                               title  \\\n",
       "0        1                    Toy Story (1995)   \n",
       "1        2                      Jumanji (1995)   \n",
       "2        3             Grumpier Old Men (1995)   \n",
       "3        4            Waiting to Exhale (1995)   \n",
       "4        5  Father of the Bride Part II (1995)   \n",
       "\n",
       "                                        genres  \n",
       "0  Adventure|Animation|Children|Comedy|Fantasy  \n",
       "1                   Adventure|Children|Fantasy  \n",
       "2                               Comedy|Romance  \n",
       "3                         Comedy|Drama|Romance  \n",
       "4                                       Comedy  "
      ]
     },
     "execution_count": 5,
     "metadata": {},
     "output_type": "execute_result"
    }
   ],
   "source": [
    "movies.head()"
   ]
  },
  {
   "cell_type": "markdown",
   "id": "4dddec2a",
   "metadata": {},
   "source": [
    "# Data exploration"
   ]
  },
  {
   "cell_type": "markdown",
   "id": "83ed28a2",
   "metadata": {},
   "source": [
    "### 1. Children movies"
   ]
  },
  {
   "cell_type": "code",
   "execution_count": 6,
   "id": "335b0936",
   "metadata": {},
   "outputs": [
    {
     "name": "stdout",
     "output_type": "stream",
     "text": [
      "664\n"
     ]
    }
   ],
   "source": [
    "is_children_movie = movies['genres'].str.contains('Children')\n",
    "children_movies = movies.loc[is_children_movie]   #str.split('|')\n",
    "print(is_children_movie.sum())"
   ]
  },
  {
   "cell_type": "markdown",
   "id": "20265aa3",
   "metadata": {},
   "source": [
    "### 2. 95' Movies ratings dist."
   ]
  },
  {
   "cell_type": "code",
   "execution_count": 7,
   "id": "4667fa16",
   "metadata": {},
   "outputs": [
    {
     "data": {
      "text/html": [
       "<div>\n",
       "<style scoped>\n",
       "    .dataframe tbody tr th:only-of-type {\n",
       "        vertical-align: middle;\n",
       "    }\n",
       "\n",
       "    .dataframe tbody tr th {\n",
       "        vertical-align: top;\n",
       "    }\n",
       "\n",
       "    .dataframe thead th {\n",
       "        text-align: right;\n",
       "    }\n",
       "</style>\n",
       "<table border=\"1\" class=\"dataframe\">\n",
       "  <thead>\n",
       "    <tr style=\"text-align: right;\">\n",
       "      <th></th>\n",
       "      <th>userId</th>\n",
       "      <th>movieId</th>\n",
       "      <th>rating</th>\n",
       "      <th>timestamp</th>\n",
       "    </tr>\n",
       "  </thead>\n",
       "  <tbody>\n",
       "    <tr>\n",
       "      <th>0</th>\n",
       "      <td>1</td>\n",
       "      <td>1</td>\n",
       "      <td>4.0</td>\n",
       "      <td>964982703</td>\n",
       "    </tr>\n",
       "    <tr>\n",
       "      <th>1</th>\n",
       "      <td>1</td>\n",
       "      <td>3</td>\n",
       "      <td>4.0</td>\n",
       "      <td>964981247</td>\n",
       "    </tr>\n",
       "    <tr>\n",
       "      <th>2</th>\n",
       "      <td>1</td>\n",
       "      <td>6</td>\n",
       "      <td>4.0</td>\n",
       "      <td>964982224</td>\n",
       "    </tr>\n",
       "    <tr>\n",
       "      <th>3</th>\n",
       "      <td>1</td>\n",
       "      <td>47</td>\n",
       "      <td>5.0</td>\n",
       "      <td>964983815</td>\n",
       "    </tr>\n",
       "    <tr>\n",
       "      <th>4</th>\n",
       "      <td>1</td>\n",
       "      <td>50</td>\n",
       "      <td>5.0</td>\n",
       "      <td>964982931</td>\n",
       "    </tr>\n",
       "  </tbody>\n",
       "</table>\n",
       "</div>"
      ],
      "text/plain": [
       "   userId  movieId  rating  timestamp\n",
       "0       1        1     4.0  964982703\n",
       "1       1        3     4.0  964981247\n",
       "2       1        6     4.0  964982224\n",
       "3       1       47     5.0  964983815\n",
       "4       1       50     5.0  964982931"
      ]
     },
     "execution_count": 7,
     "metadata": {},
     "output_type": "execute_result"
    }
   ],
   "source": [
    "ratings.head()"
   ]
  },
  {
   "cell_type": "code",
   "execution_count": 8,
   "id": "180eb67e",
   "metadata": {},
   "outputs": [
    {
     "name": "stdout",
     "output_type": "stream",
     "text": [
      "(258, 4)\n"
     ]
    },
    {
     "data": {
      "text/html": [
       "<div>\n",
       "<style scoped>\n",
       "    .dataframe tbody tr th:only-of-type {\n",
       "        vertical-align: middle;\n",
       "    }\n",
       "\n",
       "    .dataframe tbody tr th {\n",
       "        vertical-align: top;\n",
       "    }\n",
       "\n",
       "    .dataframe thead th {\n",
       "        text-align: right;\n",
       "    }\n",
       "</style>\n",
       "<table border=\"1\" class=\"dataframe\">\n",
       "  <thead>\n",
       "    <tr style=\"text-align: right;\">\n",
       "      <th></th>\n",
       "      <th>movieId</th>\n",
       "      <th>title</th>\n",
       "      <th>genres</th>\n",
       "      <th>year</th>\n",
       "    </tr>\n",
       "  </thead>\n",
       "  <tbody>\n",
       "    <tr>\n",
       "      <th>0</th>\n",
       "      <td>1</td>\n",
       "      <td>Toy Story (1995)</td>\n",
       "      <td>Adventure|Animation|Children|Comedy|Fantasy</td>\n",
       "      <td>1995</td>\n",
       "    </tr>\n",
       "    <tr>\n",
       "      <th>1</th>\n",
       "      <td>2</td>\n",
       "      <td>Jumanji (1995)</td>\n",
       "      <td>Adventure|Children|Fantasy</td>\n",
       "      <td>1995</td>\n",
       "    </tr>\n",
       "    <tr>\n",
       "      <th>2</th>\n",
       "      <td>3</td>\n",
       "      <td>Grumpier Old Men (1995)</td>\n",
       "      <td>Comedy|Romance</td>\n",
       "      <td>1995</td>\n",
       "    </tr>\n",
       "    <tr>\n",
       "      <th>3</th>\n",
       "      <td>4</td>\n",
       "      <td>Waiting to Exhale (1995)</td>\n",
       "      <td>Comedy|Drama|Romance</td>\n",
       "      <td>1995</td>\n",
       "    </tr>\n",
       "    <tr>\n",
       "      <th>4</th>\n",
       "      <td>5</td>\n",
       "      <td>Father of the Bride Part II (1995)</td>\n",
       "      <td>Comedy</td>\n",
       "      <td>1995</td>\n",
       "    </tr>\n",
       "  </tbody>\n",
       "</table>\n",
       "</div>"
      ],
      "text/plain": [
       "   movieId                               title  \\\n",
       "0        1                    Toy Story (1995)   \n",
       "1        2                      Jumanji (1995)   \n",
       "2        3             Grumpier Old Men (1995)   \n",
       "3        4            Waiting to Exhale (1995)   \n",
       "4        5  Father of the Bride Part II (1995)   \n",
       "\n",
       "                                        genres  year  \n",
       "0  Adventure|Animation|Children|Comedy|Fantasy  1995  \n",
       "1                   Adventure|Children|Fantasy  1995  \n",
       "2                               Comedy|Romance  1995  \n",
       "3                         Comedy|Drama|Romance  1995  \n",
       "4                                       Comedy  1995  "
      ]
     },
     "execution_count": 8,
     "metadata": {},
     "output_type": "execute_result"
    }
   ],
   "source": [
    "movies[\"year\"] = movies[\"title\"].str.extract(r\"\\((\\d{4})\\)$\")[0].fillna(0).astype(\"int\")\n",
    "# movies.info()\n",
    "movies_95 = movies.loc[movies[\"year\"] == 1995]\n",
    "print(movies_95.shape)\n",
    "movies_95.head()"
   ]
  },
  {
   "cell_type": "code",
   "execution_count": 9,
   "id": "37d02335",
   "metadata": {},
   "outputs": [
    {
     "data": {
      "text/plain": [
       "<Axes: >"
      ]
     },
     "execution_count": 9,
     "metadata": {},
     "output_type": "execute_result"
    },
    {
     "data": {
      "image/png": "[encoded data removed]",
      "text/plain": [
       "<Figure size 640x480 with 1 Axes>"
      ]
     },
     "metadata": {},
     "output_type": "display_data"
    }
   ],
   "source": [
    "movies_ratings_95 = ratings.join(\n",
    "    movies_95,\n",
    "    on=\"movieId\",\n",
    "    lsuffix=\"_ratings\",\n",
    "    how=\"inner\",\n",
    "    validate=\"m:1\",\n",
    ")\n",
    "movies_ratings_95[\"rating\"].hist()"
   ]
  },
  {
   "cell_type": "markdown",
   "id": "e8854f7f",
   "metadata": {},
   "source": [
    "### 3.1. Average action movies' ratings"
   ]
  },
  {
   "cell_type": "code",
   "execution_count": 10,
   "id": "2d2584e9",
   "metadata": {},
   "outputs": [
    {
     "data": {
      "text/plain": [
       "0                       Last Action Hero (1993)\n",
       "1                         Chain Reaction (1996)\n",
       "2                        Civil Action, A (1998)\n",
       "3                       Fatal Attraction (1987)\n",
       "4                         Action Jackson (1988)\n",
       "5                      Missing in Action (1984)\n",
       "6     Missing in Action 2: The Beginning (1985)\n",
       "7        Braddock: Missing in Action III (1988)\n",
       "8               Rules of Attraction, The (2002)\n",
       "9           Looney Tunes: Back in Action (2003)\n",
       "10                    Laws of Attraction (2004)\n",
       "11                          Class Action (1991)\n",
       "Name: title, dtype: object"
      ]
     },
     "execution_count": 10,
     "metadata": {},
     "output_type": "execute_result"
    }
   ],
   "source": [
    "action_movies = movies.loc[movies.title.str.lower().str.contains(\"action\")]\n",
    "action_movies[\"title\"].reset_index(drop=True)"
   ]
  },
  {
   "cell_type": "markdown",
   "id": "edd5568c",
   "metadata": {},
   "source": [
    "### 3.2. Top 3 action movies"
   ]
  },
  {
   "cell_type": "code",
   "execution_count": 11,
   "id": "433df6d5",
   "metadata": {},
   "outputs": [
    {
     "data": {
      "text/plain": [
       "title\n",
       "Braddock: Missing in Action III (1988)       4.000000\n",
       "Missing in Action 2: The Beginning (1985)    3.750000\n",
       "Chain Reaction (1996)                        3.537037\n",
       "Name: rating, dtype: float64"
      ]
     },
     "execution_count": 11,
     "metadata": {},
     "output_type": "execute_result"
    }
   ],
   "source": [
    "ratings.join(\n",
    "    action_movies,\n",
    "    on=\"movieId\",\n",
    "    lsuffix=\"_ratings\",\n",
    "    how=\"inner\",\n",
    "    validate=\"m:1\",\n",
    ").groupby(\"title\")[\"rating\"].mean().sort_values(ascending=False).head(3)"
   ]
  },
  {
   "cell_type": "markdown",
   "id": "4177278a",
   "metadata": {},
   "source": [
    "### 3.3. Top 3 movies"
   ]
  },
  {
   "cell_type": "code",
   "execution_count": 12,
   "id": "c90bfa4d",
   "metadata": {},
   "outputs": [
    {
     "data": {
      "text/plain": [
       "title\n",
       "Fallen Angels (Duo luo tian shi) (1995)    5.0\n",
       "San Francisco (1936)                       5.0\n",
       "Valentine (2001)                           5.0\n",
       "Name: rating, dtype: float64"
      ]
     },
     "execution_count": 12,
     "metadata": {},
     "output_type": "execute_result"
    }
   ],
   "source": [
    "ratings.join(\n",
    "    movies,\n",
    "    on=\"movieId\",\n",
    "    lsuffix=\"_ratings\",\n",
    "    how=\"inner\",\n",
    "    validate=\"m:1\",\n",
    ").groupby(\"title\")['rating'].mean().sort_values(ascending=False).head(3)"
   ]
  },
  {
   "cell_type": "markdown",
   "id": "7476eb97",
   "metadata": {},
   "source": [
    "# Recommendation system"
   ]
  },
  {
   "cell_type": "code",
   "execution_count": null,
   "id": "c5644e5b",
   "metadata": {},
   "outputs": [],
   "source": [
    "%pip install scikit-surprise"
   ]
  },
  {
   "cell_type": "markdown",
   "id": "577985cf",
   "metadata": {},
   "source": [
    "### 1. SVD & KNN"
   ]
  },
  {
   "cell_type": "code",
   "execution_count": 14,
   "id": "d4c911bd",
   "metadata": {},
   "outputs": [],
   "source": [
    "from surprise import Dataset, Reader\n",
    "\n",
    "\n",
    "reader = Reader(rating_scale=(0.5, 5.0))\n",
    "data = Dataset.load_from_df(ratings[[\"userId\", \"movieId\", \"rating\"]], reader)"
   ]
  },
  {
   "cell_type": "code",
   "execution_count": 15,
   "id": "e73c1ecc",
   "metadata": {},
   "outputs": [],
   "source": [
    "from surprise import SVD, KNNBasic\n",
    "\n",
    "\n",
    "algo_svd = SVD(n_factors=40, n_epochs=20, reg_bu=15)\n",
    "algo_knn = KNNBasic(k=40, sim_options={\"name\": \"cosine\", \"user_based\": False})"
   ]
  },
  {
   "cell_type": "code",
   "execution_count": 16,
   "id": "eba0f22c",
   "metadata": {},
   "outputs": [
    {
     "name": "stdout",
     "output_type": "stream",
     "text": [
      "Computing the cosine similarity matrix...\n",
      "Done computing similarity matrix.\n",
      "Predicted SVD rating: 3.93\n",
      "\tuser: 7          item: 1          r_ui = 4.50   est = 3.93   {'was_impossible': False}\n",
      "Predicted KNN rating: 3.89\n",
      "\tuser: 7          item: 1          r_ui = 4.50   est = 3.89   {'actual_k': 40, 'was_impossible': False}\n"
     ]
    }
   ],
   "source": [
    "trainset = data.build_full_trainset()\n",
    "\n",
    "algo_svd.fit(trainset)\n",
    "algo_knn.fit(trainset)\n",
    "\n",
    "TOY_STORY_ID = 1\n",
    "USER_ID = 7\n",
    "\n",
    "prediction_svd = algo_svd.predict(uid=USER_ID, iid=TOY_STORY_ID, r_ui=4.5)\n",
    "prediction_knn = algo_knn.predict(uid=USER_ID, iid=TOY_STORY_ID, r_ui=4.5)\n",
    "print(f\"Predicted SVD rating: {prediction_svd.est:.2f}\", end=\"\\n\\t\")\n",
    "print(prediction_svd)\n",
    "print(f\"Predicted KNN rating: {prediction_knn.est:.2f}\", end=\"\\n\\t\")\n",
    "print(prediction_knn)\n"
   ]
  },
  {
   "cell_type": "markdown",
   "id": "b57500b5",
   "metadata": {},
   "source": [
    "### 2. After-Toy-Story recommendations"
   ]
  },
  {
   "cell_type": "code",
   "execution_count": 17,
   "id": "589b13e5",
   "metadata": {},
   "outputs": [
    {
     "name": "stdout",
     "output_type": "stream",
     "text": [
      "Computing the cosine similarity matrix...\n",
      "Done computing similarity matrix.\n"
     ]
    },
    {
     "data": {
      "text/plain": [
       "<surprise.prediction_algorithms.knns.KNNBasic at 0x7e78ff496660>"
      ]
     },
     "execution_count": 17,
     "metadata": {},
     "output_type": "execute_result"
    }
   ],
   "source": [
    "new_user = ratings.userId.max() + 1\n",
    "new_ratings = pd.concat(\n",
    "    [\n",
    "        ratings,\n",
    "        pd.DataFrame(\n",
    "            {\n",
    "                \"userid\": new_user,\n",
    "                \"movieId\": 1,\n",
    "                \"rating\": 4.5,\n",
    "                \"timestamp\": 1493846358,\n",
    "            },\n",
    "            index=[ratings.shape[0]],\n",
    "        ),\n",
    "    ],\n",
    ")\n",
    "new_reader = Reader(rating_scale=(0.5, 5.0))\n",
    "new_data = Dataset.load_from_df(new_ratings[[\"userId\", \"movieId\", \"rating\"]], new_reader)\n",
    "trainset = new_data.build_full_trainset()\n",
    "algo_svd = SVD(n_factors=40, n_epochs=20, reg_bu=15)\n",
    "algo_knn = KNNBasic(k=40, sim_options={\"name\": \"cosine\", \"user_based\": False})\n",
    "algo_svd.fit(trainset)\n",
    "algo_knn.fit(trainset)\n"
   ]
  },
  {
   "cell_type": "code",
   "execution_count": 18,
   "id": "b2d128a4",
   "metadata": {},
   "outputs": [
    {
     "data": {
      "text/plain": [
       "9723"
      ]
     },
     "execution_count": 18,
     "metadata": {},
     "output_type": "execute_result"
    }
   ],
   "source": [
    "TOP_N = 3\n",
    "unwatched_movies = set(ratings[\"movieId\"]) - {TOY_STORY_ID}\n",
    "len(unwatched_movies)"
   ]
  },
  {
   "cell_type": "markdown",
   "id": "5303890f",
   "metadata": {},
   "source": [
    "#### 2.1. SVD recommendations"
   ]
  },
  {
   "cell_type": "code",
   "execution_count": 19,
   "id": "3f3f50b3",
   "metadata": {},
   "outputs": [
    {
     "name": "stdout",
     "output_type": "stream",
     "text": [
      "Top 3 SVD recommendations for user 611:\n",
      "\tShawshank Redemption, The (1994): 4.41(est), None(real)\n",
      "\tStreetcar Named Desire, A (1951): 4.33(est), None(real)\n",
      "\tGodfather, The (1972): 4.27(est), None(real)\n"
     ]
    }
   ],
   "source": [
    "predictions_svd = sorted(\n",
    "    (algo_svd.predict(uid=new_user, iid=movie_id) for movie_id in unwatched_movies),\n",
    "    key=lambda x: x.est,\n",
    "    reverse=True,\n",
    ")\n",
    "print(f\"Top {TOP_N} SVD recommendations for user {new_user}:\")\n",
    "for prediction in predictions_svd[:TOP_N]:\n",
    "    print(f\"\\t{movies.loc[movies.movieId == prediction[1]]['title'].values[0]}: {prediction[3]:.2f}(est), {prediction[2]}(real)\")\n"
   ]
  },
  {
   "cell_type": "markdown",
   "id": "20ed6ecc",
   "metadata": {},
   "source": [
    "#### 2.2. KNN recommendations"
   ]
  },
  {
   "cell_type": "code",
   "execution_count": 20,
   "id": "e69e1e12",
   "metadata": {},
   "outputs": [
    {
     "name": "stdout",
     "output_type": "stream",
     "text": [
      "Top 3 KNN recommendations for user 611:\n",
      "\tJumanji (1995): 3.50(est), None(real)\n",
      "\tGrumpier Old Men (1995): 3.50(est), None(real)\n",
      "\tWaiting to Exhale (1995): 3.50(est), None(real)\n"
     ]
    }
   ],
   "source": [
    "predictions_knn = sorted(\n",
    "    (algo_knn.predict(uid=new_user, iid=movie_id) for movie_id in unwatched_movies),\n",
    "    key=lambda x: x.est,\n",
    "    reverse=False,\n",
    ")\n",
    "print(f\"Top {TOP_N} KNN recommendations for user {new_user}:\")\n",
    "for prediction in predictions_knn[:TOP_N]:\n",
    "    print(\n",
    "        f\"\\t{movies.loc[movies.movieId == prediction[1]]['title'].values[0]}: {prediction[3]:.2f}(est), {prediction[2]}(real)\"\n",
    "    )"
   ]
  },
  {
   "cell_type": "markdown",
   "id": "e65d2609",
   "metadata": {},
   "source": [
    "### 3. Grid Optimization"
   ]
  },
  {
   "cell_type": "markdown",
   "id": "e239425b",
   "metadata": {},
   "source": [
    "#### 3.1. SVD"
   ]
  },
  {
   "cell_type": "code",
   "execution_count": 21,
   "id": "bcbc7253",
   "metadata": {},
   "outputs": [],
   "source": [
    "from surprise.model_selection import GridSearchCV\n",
    "\n",
    "\n",
    "param_grid = {\n",
    "    \"n_epochs\": [5, 10],\n",
    "    \"lr_all\": [0.002, 0.005],\n",
    "    \"reg_all\": [0.4, 0.6],\n",
    "}\n",
    "gs_svd = GridSearchCV(SVD, param_grid, measures=[\"rmse\", \"mae\"], cv=3)\n",
    "gs_svd.fit(data)"
   ]
  },
  {
   "cell_type": "code",
   "execution_count": 22,
   "id": "4b17ede0",
   "metadata": {},
   "outputs": [
    {
     "name": "stdout",
     "output_type": "stream",
     "text": [
      "0.893899634929717\n",
      "{'n_epochs': 10, 'lr_all': 0.005, 'reg_all': 0.4}\n"
     ]
    }
   ],
   "source": [
    "# best RMSE score\n",
    "print(gs_svd.best_score[\"rmse\"])\n",
    "\n",
    "# combination of parameters that gave the best RMSE score\n",
    "print(gs_svd.best_params[\"rmse\"])"
   ]
  },
  {
   "cell_type": "code",
   "execution_count": 23,
   "id": "ebd43f07",
   "metadata": {},
   "outputs": [
    {
     "data": {
      "text/plain": [
       "<surprise.prediction_algorithms.matrix_factorization.SVD at 0x7e78fd15fb60>"
      ]
     },
     "execution_count": 23,
     "metadata": {},
     "output_type": "execute_result"
    }
   ],
   "source": [
    "algo_svd_tuned = gs_svd.best_estimator[\"rmse\"]\n",
    "algo_svd_tuned.fit(trainset)"
   ]
  },
  {
   "cell_type": "markdown",
   "id": "e39278af",
   "metadata": {},
   "source": [
    "#### 3.2. KNN"
   ]
  },
  {
   "cell_type": "code",
   "execution_count": 24,
   "id": "8997e858",
   "metadata": {},
   "outputs": [
    {
     "name": "stdout",
     "output_type": "stream",
     "text": [
      "Computing the cosine similarity matrix...\n",
      "Done computing similarity matrix.\n",
      "Computing the cosine similarity matrix...\n",
      "Done computing similarity matrix.\n",
      "Computing the cosine similarity matrix...\n",
      "Done computing similarity matrix.\n",
      "Computing the cosine similarity matrix...\n",
      "Done computing similarity matrix.\n",
      "Computing the cosine similarity matrix...\n",
      "Done computing similarity matrix.\n",
      "Computing the cosine similarity matrix...\n",
      "Done computing similarity matrix.\n",
      "Computing the msd similarity matrix...\n",
      "Done computing similarity matrix.\n",
      "Computing the msd similarity matrix...\n",
      "Done computing similarity matrix.\n",
      "Computing the msd similarity matrix...\n",
      "Done computing similarity matrix.\n",
      "Computing the msd similarity matrix...\n",
      "Done computing similarity matrix.\n",
      "Computing the msd similarity matrix...\n",
      "Done computing similarity matrix.\n",
      "Computing the msd similarity matrix...\n",
      "Done computing similarity matrix.\n",
      "Computing the cosine similarity matrix...\n",
      "Done computing similarity matrix.\n",
      "Computing the cosine similarity matrix...\n",
      "Done computing similarity matrix.\n",
      "Computing the cosine similarity matrix...\n",
      "Done computing similarity matrix.\n",
      "Computing the cosine similarity matrix...\n",
      "Done computing similarity matrix.\n",
      "Computing the cosine similarity matrix...\n",
      "Done computing similarity matrix.\n",
      "Computing the cosine similarity matrix...\n",
      "Done computing similarity matrix.\n",
      "Computing the msd similarity matrix...\n",
      "Done computing similarity matrix.\n",
      "Computing the msd similarity matrix...\n",
      "Done computing similarity matrix.\n",
      "Computing the msd similarity matrix...\n",
      "Done computing similarity matrix.\n",
      "Computing the msd similarity matrix...\n",
      "Done computing similarity matrix.\n",
      "Computing the msd similarity matrix...\n",
      "Done computing similarity matrix.\n",
      "Computing the msd similarity matrix...\n",
      "Done computing similarity matrix.\n",
      "0.9153926202294747\n",
      "{'k': 40, 'sim_options': {'name': 'msd', 'user_based': False}}\n"
     ]
    }
   ],
   "source": [
    "gs_knn = GridSearchCV(\n",
    "    KNNBasic,\n",
    "    param_grid={\n",
    "        \"k\": [20, 40],\n",
    "        \"sim_options\": {\n",
    "            \"name\": [\"cosine\", \"msd\"],\n",
    "            \"user_based\": [True, False],\n",
    "        },\n",
    "    },\n",
    "    measures=[\"rmse\", \"mae\"],\n",
    "    cv=3,\n",
    ")\n",
    "gs_knn.fit(data)\n",
    "print(gs_knn.best_score[\"rmse\"])\n",
    "print(gs_knn.best_params[\"rmse\"])"
   ]
  },
  {
   "cell_type": "code",
   "execution_count": 25,
   "id": "aa75dc1e",
   "metadata": {},
   "outputs": [
    {
     "name": "stdout",
     "output_type": "stream",
     "text": [
      "Computing the msd similarity matrix...\n",
      "Done computing similarity matrix.\n"
     ]
    },
    {
     "data": {
      "text/plain": [
       "<surprise.prediction_algorithms.knns.KNNBasic at 0x7e78ff4709b0>"
      ]
     },
     "execution_count": 25,
     "metadata": {},
     "output_type": "execute_result"
    }
   ],
   "source": [
    "algo_knn_tuned = gs_knn.best_estimator[\"rmse\"]\n",
    "algo_knn_tuned.fit(trainset)"
   ]
  },
  {
   "cell_type": "markdown",
   "id": "1f53c58e",
   "metadata": {},
   "source": [
    "### 4. Cross-validation"
   ]
  },
  {
   "cell_type": "code",
   "execution_count": 26,
   "id": "e5c71333",
   "metadata": {},
   "outputs": [
    {
     "name": "stdout",
     "output_type": "stream",
     "text": [
      "Evaluating RMSE, MAE of algorithm SVD on 3 split(s).\n",
      "\n",
      "                  Fold 1  Fold 2  Fold 3  Mean    Std     \n",
      "RMSE (testset)    0.8902  0.8961  0.8949  0.8937  0.0026  \n",
      "MAE (testset)     0.6897  0.6937  0.6922  0.6918  0.0016  \n",
      "Fit time          0.38    0.21    0.20    0.26    0.08    \n",
      "Test time         0.11    0.06    0.06    0.08    0.02    \n",
      "Computing the msd similarity matrix...\n",
      "Done computing similarity matrix.\n",
      "Computing the msd similarity matrix...\n",
      "Done computing similarity matrix.\n",
      "Computing the msd similarity matrix...\n",
      "Done computing similarity matrix.\n",
      "Evaluating RMSE, MAE of algorithm KNNBasic on 3 split(s).\n",
      "\n",
      "                  Fold 1  Fold 2  Fold 3  Mean    Std     \n",
      "RMSE (testset)    0.9105  0.9197  0.9162  0.9155  0.0038  \n",
      "MAE (testset)     0.7023  0.7073  0.7037  0.7044  0.0021  \n",
      "Fit time          1.04    1.04    1.05    1.04    0.00    \n",
      "Test time         2.74    2.76    2.83    2.78    0.04    \n"
     ]
    }
   ],
   "source": [
    "from surprise.model_selection import cross_validate\n",
    "\n",
    "\n",
    "results_svd = cross_validate(\n",
    "    algo_svd_tuned,\n",
    "    data,\n",
    "    measures=[\"RMSE\", \"MAE\"],\n",
    "    cv=3,\n",
    "    verbose=True,\n",
    ")\n",
    "results_knn = cross_validate(\n",
    "    algo_knn_tuned,\n",
    "    data,\n",
    "    measures=[\"RMSE\", \"MAE\"],\n",
    "    cv=3,\n",
    "    verbose=True,\n",
    ")"
   ]
  },
  {
   "cell_type": "markdown",
   "id": "53374eb9",
   "metadata": {},
   "source": [
    "#### KNN reaches slightly better results, while being inferior in terms of learning time"
   ]
  },
  {
   "cell_type": "markdown",
   "id": "16403784",
   "metadata": {},
   "source": [
    "# User 600 recommendations"
   ]
  },
  {
   "cell_type": "code",
   "execution_count": 27,
   "id": "430c19b4",
   "metadata": {},
   "outputs": [
    {
     "name": "stdout",
     "output_type": "stream",
     "text": [
      "Top 3 SVD recommendations for user 600:\n",
      "\tUsual Suspects, The (1995): 3.74(est), None(real)\n",
      "\tApocalypse Now (1979): 3.72(est), None(real)\n",
      "\tLawrence of Arabia (1962): 3.71(est), None(real)\n",
      "Top 3 KNN recommendations for user 600:\n",
      "\tSpiral (2018): 5.00(est), None(real)\n",
      "\tTilt (2011): 5.00(est), None(real)\n",
      "\tJeff Ross Roasts the Border (2017): 5.00(est), None(real)\n"
     ]
    }
   ],
   "source": [
    "unwatched_movies_user_600 = set(movies.movieId) - set(\n",
    "    ratings.loc[ratings.userId == 600][\"movieId\"]\n",
    ")\n",
    "\n",
    "predictions_svd_tuned_user_600 = sorted(\n",
    "    (algo_svd_tuned.predict(uid=600, iid=movie_id) for movie_id in unwatched_movies_user_600),\n",
    "    key=lambda x: x.est,\n",
    "    reverse=True,\n",
    ")\n",
    "print(f\"Top {TOP_N} SVD recommendations for user 600:\")\n",
    "for prediction in predictions_svd_tuned_user_600[:TOP_N]:\n",
    "    print(\n",
    "        f\"\\t{movies.loc[movies.movieId == prediction[1]]['title'].values[0]}: {prediction[3]:.2f}(est), {prediction[2]}(real)\"\n",
    "    )\n",
    "    \n",
    "predictions_knn_tuned_user_600 = sorted(\n",
    "    (algo_knn_tuned.predict(uid=600, iid=movie_id) for movie_id in unwatched_movies_user_600),\n",
    "    key=lambda x: x.est,\n",
    "    reverse=True,\n",
    ")\n",
    "print(f\"Top {TOP_N} KNN recommendations for user 600:\")\n",
    "for prediction in predictions_knn_tuned_user_600[:TOP_N]:\n",
    "    print(\n",
    "        f\"\\t{movies.loc[movies.movieId == prediction[1]]['title'].values[0]}: {prediction[3]:.2f}(est), {prediction[2]}(real)\"\n",
    "    )"
   ]
  },
  {
   "cell_type": "code",
   "execution_count": null,
   "id": "4d7c88ab",
   "metadata": {},
   "outputs": [],
   "source": []
  }
 ],
 "metadata": {
  "kernelspec": {
   "display_name": "fin_ml_env",
   "language": "python",
   "name": "python3"
  },
  "language_info": {
   "codemirror_mode": {
    "name": "ipython",
    "version": 3
   },
   "file_extension": ".py",
   "mimetype": "text/x-python",
   "name": "python",
   "nbconvert_exporter": "python",
   "pygments_lexer": "ipython3",
   "version": "3.12.4"
  }
 },
 "nbformat": 4,
 "nbformat_minor": 5
}
